{
 "cells": [
  {
   "cell_type": "markdown",
   "metadata": {},
   "source": [
    "# Parametric modeling of coiled-coil regions of yeast Smc5/6\n",
    "<br>\n",
    "\n",
    "Tanmoy Sanyal<br>\n",
    "Sali lab, UCSF"
   ]
  },
  {
   "cell_type": "markdown",
   "metadata": {},
   "source": [
    "Necessary libraries:"
   ]
  },
  {
   "cell_type": "code",
   "execution_count": 4,
   "metadata": {},
   "outputs": [],
   "source": [
    "import os\n",
    "import numpy as np\n",
    "import pandas as pd\n",
    "import matplotlib.pyplot as plt\n",
    "\n",
    "from Bio import SeqIO\n",
    "from Bio.PDB import PDBParser, PDBIO\n",
    "from Bio.PDB import Model, Chain\n",
    "\n",
    "from Bio import BiopythonWarning\n",
    "import warnings\n",
    "with warnings.catch_warnings():\n",
    "    warnings.simplefilter('ignore', BiopythonWarning)\n",
    "\n",
    "import cc_utils as utils"
   ]
  },
  {
   "cell_type": "markdown",
   "metadata": {},
   "source": [
    "FASTA file containing sequences:"
   ]
  },
  {
   "cell_type": "code",
   "execution_count": 5,
   "metadata": {},
   "outputs": [],
   "source": [
    "FASTA_FN = os.path.abspath(\"../data/holocomplex.fasta.txt\")"
   ]
  },
  {
   "cell_type": "markdown",
   "metadata": {},
   "source": [
    "Output directories:"
   ]
  },
  {
   "cell_type": "code",
   "execution_count": 6,
   "metadata": {},
   "outputs": [],
   "source": [
    "SMC5_DIR = \"smc5\"\n",
    "SMC6_DIR = \"smc6\""
   ]
  },
  {
   "cell_type": "markdown",
   "metadata": {},
   "source": [
    "Avg. lengths of different coiled coil regions, obtained from preliminary (un-published) estimates from 2D-EM images."
   ]
  },
  {
   "cell_type": "code",
   "execution_count": 7,
   "metadata": {},
   "outputs": [],
   "source": [
    "MAXLEN_CC_HEAD = 8.6   # nm\n",
    "MAXLEN_CC_HINGE = 10.8 #nm\n",
    "MAXLEN_CC_MID = 14.7   #nm"
   ]
  },
  {
   "cell_type": "markdown",
   "metadata": {},
   "source": [
    "Helper function to extract the specific sequence regions corresponding to the coiled-coil dimer from the fasta file. "
   ]
  },
  {
   "cell_type": "code",
   "execution_count": 8,
   "metadata": {},
   "outputs": [],
   "source": [
    "FASTA = {r.id: r.seq._data for r in SeqIO.parse(FASTA_FN, format=\"fasta\")}\n",
    "\n",
    "def _make_CC(protein_name, resrange1, resrange2):\n",
    "    b1, e1 = resrange1\n",
    "    seq1 = FASTA[protein_name][(b1-1): e1]\n",
    "    \n",
    "    b2, e2 = resrange2\n",
    "    seq2 = FASTA[protein_name][(b2-1): e2]\n",
    "    \n",
    "    cc = (b1, e1, seq1), (b2, e2, seq2)\n",
    "    \n",
    "    s = \"\"\"\n",
    "%s\n",
    "N-part: (%d, %d)\n",
    "%s\n",
    "\n",
    "C-part: (%d, %d)\n",
    "%s\n",
    "    \"\"\" % (protein_name,b1, e1, seq1, b2, e2, seq2)\n",
    "    \n",
    "    print(s)\n",
    "    return cc"
   ]
  },
  {
   "cell_type": "markdown",
   "metadata": {},
   "source": [
    "Helper function to rank alternate CC models:"
   ]
  },
  {
   "cell_type": "code",
   "execution_count": 9,
   "metadata": {},
   "outputs": [],
   "source": [
    "def _rank_CC(model_dir, maxlen, verbose=False):\n",
    "    # extract scores\n",
    "    score_fn = os.path.join(model_dir, \"scores.csv\")\n",
    "    df_score = pd.read_csv(score_fn)\n",
    "    \n",
    "    # display the scores\n",
    "    if verbose:\n",
    "        display(df_score)\n",
    "    \n",
    "    # get the XL satisfractions\n",
    "    xl_viol = [(1-x) for x in df_score[\"frac_XL_sat\"]]\n",
    "    min_xl_viol = 0.0\n",
    "    max_xl_viol = 1.0\n",
    "    \n",
    "    # get the lengths\n",
    "    min_len = 1e6\n",
    "    max_len = -999\n",
    "    cc_len = []\n",
    "    for i in range(len(df_score)):\n",
    "        this_df = df_score.iloc[i]\n",
    "        l1 = this_df[\"b1-e1\"]\n",
    "        l2 = this_df[\"b2-e2\"]\n",
    "        l3 = this_df[\"b1-b2\"]\n",
    "        l4 = this_df[\"e1-e2\"]\n",
    "        min_l = min(l1, l2, l3, l4)\n",
    "        max_l = max(l1, l2, l3, l4)\n",
    "        if min_l < min_len:\n",
    "            min_len = min_l\n",
    "        if max_l > max_len:\n",
    "            max_len = max_l\n",
    "        cc_len.append(0.25*(l1+l2+l3+l4))\n",
    "    \n",
    "    min_len = min(min_len, maxlen)\n",
    "    max_len = max(max_len, maxlen)\n",
    "    \n",
    "    # plot the XL satisfaction and max length\n",
    "    fig = plt.figure(figsize=(6,6))\n",
    "    ax = fig.add_subplot(1,1,1)\n",
    "    \n",
    "    ax.set_xlim([min_xl_viol, max_xl_viol])\n",
    "    ax.set_ylim([0.98*min_len, 1.02 * max_len])\n",
    "\n",
    "    ax.scatter(xl_viol, cc_len, c=\"blue\", s=100)\n",
    "    ax.axvline(0.1, color=\"k\", ls=\"--\", lw=2)\n",
    "    ax.axhline(maxlen, color=\"k\", ls=\"--\", lw=2)\n",
    "\n",
    "    ax.set_xlabel(\"(frac.) XL violation\", fontsize=15)\n",
    "    ax.set_ylabel(\"assembly length \" + r\"$(\\AA)$\", fontsize=15)   \n",
    "    \n",
    "    fig.tight_layout()\n",
    "    plt.show()"
   ]
  },
  {
   "cell_type": "markdown",
   "metadata": {},
   "source": [
    "## Smc5 head-adjacent coiled-coiled region (Smc5_cc-head) (Smc5:208-266, 885-946): Illustration of the workflow"
   ]
  },
  {
   "cell_type": "markdown",
   "metadata": {},
   "source": [
    "![](images/cc_geometry.png)"
   ]
  },
  {
   "cell_type": "markdown",
   "metadata": {},
   "source": [
    "In a nutshell, an antiparallel coiled-coil dimer (such as the parts of the Smc5/6 arm designed in this work) can be characterized by 9 parameters: register, radius ($R$), pitch($\\lambda$) and the angle with the central axis ($\\Delta \\phi$ in the above figure) for each monomer, and the vertical distance between the two monomers($z$-shift). $R$, $\\lambda$ and $z$ are geometrical paramters that are ideally sequence independent and are expected to be fairly similar across different geometry-based coiled-coil modeling softwares. In this work we use [ISAMBARD](https://github.com/isambard-uob/isambard), which is the parent framework for the more well known coiled-coil modeling program [CCBuilder2](http://coiledcoils.chm.bris.ac.uk/ccbuilder2/builder). However, ISAMBARD's API provides more fine-grained control on selecting good values of the geometrical parameters.<br>\n",
    "\n",
    "Ranges for ($R_1,R_2$), ($\\lambda_1, \\lambda_2$), ($\\phi_1, \\phi_2$), and $z$ are chosen based on preliminary observations of the coiled-coil dimensions based on the negative staining 2D-EM images of the Smc5/6 arm, as well as from literature surveys of commonly observed values of these parameters in other coiled coils. Allowing these parameters to vary within the given ranges, ISAMBARD's genetic algorithm optimizer is used to obtain obtain 50 alternate models, while minimizing a molecular-mechanics forcefield based energy, such that the output models all have minimal steric straing and hence not merely ideal coiled coils."
   ]
  },
  {
   "cell_type": "markdown",
   "metadata": {},
   "source": [
    "Parameter search can be run using the ```generate_cc.py``` script kept in this directory. It needs mpi4py for distributed parallel runs. The shell script ```example_smc5_cc-head_job.sh``` can run this script for the smc5 cc-head region. The flag ```-h``` will give detailed usage information about the script."
   ]
  },
  {
   "cell_type": "markdown",
   "metadata": {},
   "source": [
    "The coiled-coil register (as denoted by the discrete positions a to f) for each monomer is *not* optimized by ISAMBARD. Prior to using ISAMBARD's parameter search, the best register arrangement for each monomer is found by converting the monomer sequence to a reduced alphabet (hydrophobic / polar i.e., HP alphabet) starting with one of the 6 candidate positions a to f for the first residue, and estimating what starting position assignment makes the HP version of the monomer sequence closest to an ideal heptad. This is automatically done by the ```generate.py``` script.<br>\n",
    "\n",
    "![](smc5/example_cc-head/registers.png)\n",
    "<br>\n",
    "\n",
    "E.g. for smc5_cc_head, the best register for the starting residue of monomer-1 (N-terminal) is a while for monomer-2 (C terminal) \"b\" and \"e\" are equally likely. The rest of the parameter space is then explored with ISAMBARD, for both combinations (a,b) and (a,e), thus producing a total of 100 models."
   ]
  },
  {
   "cell_type": "markdown",
   "metadata": {},
   "source": [
    "Next, the models are ranked according to their crosslink satisfaction. Good scoring models are filtered and clustered to produce a single representative model that is passed on to the integrative modeling pipeline. "
   ]
  },
  {
   "cell_type": "code",
   "execution_count": 10,
   "metadata": {},
   "outputs": [
    {
     "name": "stdout",
     "output_type": "stream",
     "text": [
      "\n",
      "smc5\n",
      "N-part: (208, 266)\n",
      "LLDVLDELRELQGNEQSLQKDLDFKKAKIVHLRQESDKLRKSVESLRDFQNKKGEIELH\n",
      "\n",
      "C-part: (885, 946)\n",
      "SAVTILDQVTAELRELEHTVPQQSKDLETIKAKLKEDHAVLEPKLDDIVSKISARFARLFNN\n",
      "    \n"
     ]
    }
   ],
   "source": [
    "cc = _make_CC(\"smc5\", (208, 266), (885, 946))\n",
    "model_dir = os.path.join(SMC5_DIR, \"example_cc-head\")"
   ]
  },
  {
   "cell_type": "code",
   "execution_count": 11,
   "metadata": {
    "cell_style": "center"
   },
   "outputs": [
    {
     "data": {
      "image/png": "[encoded data removed]",
      "text/plain": [
       "<Figure size 432x432 with 1 Axes>"
      ]
     },
     "metadata": {
      "needs_background": "light"
     },
     "output_type": "display_data"
    }
   ],
   "source": [
    "_rank_CC(model_dir=model_dir, maxlen=MAXLEN_CC_HEAD * 10.)"
   ]
  },
  {
   "cell_type": "markdown",
   "metadata": {},
   "source": [
    "All models are in very close length range and have same XL satisfaction. So no filtering needed. The filtering function is run in dummy mode."
   ]
  },
  {
   "cell_type": "code",
   "execution_count": 12,
   "metadata": {},
   "outputs": [
    {
     "name": "stdout",
     "output_type": "stream",
     "text": [
      "100 models after filtering\n",
      "cluster=0, population=1.00\n"
     ]
    }
   ],
   "source": [
    "filtered_model_indices = utils.filter_models(score_fn=os.path.join(model_dir, \"scores.csv\"))\n",
    "print(\"%d models after filtering\" % len(filtered_model_indices))\n",
    "\n",
    "clustfrac = utils.cluster(filtered_model_indices, model_dir=model_dir, \n",
    "                          param_fn=os.path.join(model_dir, \"params.csv\"),\n",
    "                          score_fn = os.path.join(model_dir, \"scores.csv\"),\n",
    "                          rmsd_cutoff=3.0, outdir=model_dir)\n",
    "\n",
    "for k, v in clustfrac.items():\n",
    "    print(\"cluster=%d, population=%.2f\" % (k, v))"
   ]
  },
  {
   "cell_type": "markdown",
   "metadata": {
    "cell_style": "center"
   },
   "source": [
    "The centroid model for this cluster (which in this case, trivially contains all models) is saved as ```smc5/example_cc-head/cluster_0/cluster_center.pdb```.Here's what that looks like:\n",
    "![](images/smc5_cc-head.png)\n",
    "<br>\n",
    "\n",
    "Smc5 is in coral, Smc6 in light blue. Satisfied and violated crosslinks are shown in blue and red respectively.<br>\n",
    "\n",
    "XL satisfaction: 14/14, 100%<br>\n",
    "9/9 DSSO, 5/5 CDI"
   ]
  },
  {
   "cell_type": "markdown",
   "metadata": {},
   "source": [
    "For the other coiled-coil regions (except Smc5:304-363, 739-811, which is available from X-ray structure [3htk](https://www.rcsb.org/structure/3HTK)), the design process remains exactly the same as before. For each of these regions, only the corresponding ```cluster_center.pdb``` files for the top_cluster/(s) are saved in this directory.<br>\n",
    "\n",
    "Further, some of them don't have good XL satisfaction because of one or two offending crosslinks. In such cases, we make minimal tweaks to the structure by deleting one or more residues (which can be later modelled as flexible beads during integrative modeling) on which such crosslinks are incident. This converts the over-length crosslinks from intra-rigid-body to inter-rigid-body during integrative modeling such that they be satisfied by configurational sampling.<br>\n",
    "\n",
    "In the rest of this notebook, we'll record the structures of these separate coiled-coil regions and mention what, if any tweaks were made to the representative cluster center structure. The final structures are then saved in the ```best_models``` directory, and should be copied over to ```../data/pdb``` for integrative modeling."
   ]
  },
  {
   "cell_type": "markdown",
   "metadata": {
    "cell_style": "center"
   },
   "source": [
    "## Smc5_cc-mid-1 (Smc5:272-302, 813-880)\n",
    "This is the region between the head and the known (from xray structure 3htk) part of Smc5. All models have similar XL satisfaction and in the same length range. No filtering needed."
   ]
  },
  {
   "cell_type": "markdown",
   "metadata": {},
   "source": [
    "![](images/smc5_cc-mid-1-XL-violated.png)\n",
    "<br>\n",
    "\n",
    "XL satisfaction: 6/9, 66.67%<br>\n",
    "2/5 DSSO, 4/4 CDI\n",
    "<br>\n",
    "\n",
    "Clearly the overshot part of the C-terminal part of this coil is not reliable. So, we forego the one satisfied XL towards the end of the C-terminal coil and delete the entire region between 813-850 to produce:<br>\n",
    "![](images/smc5_cc-mid-1.png)\n",
    "<br>\n",
    "\n",
    "Now, XL satisfaction: 5/5, 100%<br>\n",
    "2/2 DSSO, 3/3 CDI"
   ]
  },
  {
   "cell_type": "markdown",
   "metadata": {},
   "source": [
    "## Smc5_cc-mid-2 (Smc5:365-388, 719-737)\n",
    "This is the region between the known (3htk) part and the hinge region of Smc5. No filtering was required."
   ]
  },
  {
   "cell_type": "markdown",
   "metadata": {
    "cell_style": "center"
   },
   "source": [
    "![](images/smc5_cc-mid-2.png)\n",
    "<br>\n",
    "\n",
    "XL satisfaction: 2/2, 100 %<br>\n",
    "2/2 DSSO, 0/0 CDI"
   ]
  },
  {
   "cell_type": "markdown",
   "metadata": {
    "cell_style": "center"
   },
   "source": [
    "## Smc5_cc-hinge (Smc5:398-459, 653-714)\n",
    "This is the coiled coil nearest to the hinge. No filtering was required."
   ]
  },
  {
   "cell_type": "markdown",
   "metadata": {
    "cell_style": "center"
   },
   "source": [
    "![](images/smc5_cc-hinge-XL-violated.png)\n",
    "<br>\n",
    "\n",
    "XL satisfaction: 20/22, 90.9%<br>\n",
    "16/16 DSSO, 4/6 CDI<br>\n",
    "\n",
    "The 2 CDI violations are between (676, 697) and (675, 692). But there are lots of satisfied XLs incident on/from residues 675, 676 and 697. However, the part of the C-terminal coil from 675(ish)-697(ish) is clearly not rigid. To not lose most already satisfied XLs, the easiest option is to just delete the region 677-695, to produce: <br>\n",
    "\n",
    "![](images/smc5_cc-hinge.png)\n",
    "<br>\n",
    "\n",
    "Now, XL satisfaction: 20/21 (95.2%)<br>\n",
    "16/16 DSSO, 4/5 CDI"
   ]
  },
  {
   "cell_type": "markdown",
   "metadata": {},
   "source": [
    "## Smc6_cc-head (Smc6:236-294, 923-984)\n",
    "Region close to the head. No filtering done."
   ]
  },
  {
   "cell_type": "markdown",
   "metadata": {},
   "source": [
    "![](images/smc6_cc-head-XL_violated.png)<br>\n",
    "\n",
    "XL satisfaction 1/2, 50%<br>\n",
    "1/1 DSSO, 0/1 CDI.\n",
    "<br>\n",
    "\n",
    "The single violated CDI XL is between (943, 958). Adjusting this structure to get rid of the single violated XL may seem overkill, but prior experiments with XL data under -$\\gamma$ATP conditions, shows that there are further XL violations in this region, further upstream. So, lets just treat this region as flexible and remove residues 940-950.<br>\n",
    "\n",
    "![](images/smc6_cc-head.png)<br>\n",
    "\n",
    "Now, XL satisfaction 1/1, 100%\n",
    "1/1 DSSO, 0/0 CDI"
   ]
  },
  {
   "cell_type": "markdown",
   "metadata": {},
   "source": [
    "## Smc6_cc-mid-1 (Smc6:298-310, 897-916)\n",
    "No filtering was needed."
   ]
  },
  {
   "cell_type": "markdown",
   "metadata": {
    "cell_style": "center"
   },
   "source": [
    "![](images/smc6_cc-mid-1.png)\n",
    "<br>\n",
    "\n",
    "XL satisfaction: 2/2, 100%\n",
    "2/2 DSSO"
   ]
  },
  {
   "cell_type": "markdown",
   "metadata": {},
   "source": [
    "## Smc6_cc-mid-2 (Smc6: 314-430, 769-882)\n",
    "Theer were multiple clusters, and the most populated cluster was selected to supply rigid bodies."
   ]
  },
  {
   "cell_type": "markdown",
   "metadata": {
    "cell_style": "center"
   },
   "source": [
    "![](images/smc6_cc-mid-2-XL-violated.png)<br>\n",
    "\n",
    "XL satisfaction: 24/26, 92.3%<br>\n",
    "18/19 DSSO, 6/7 CDI\n",
    "<br>\n",
    "\n",
    "There are two XLs violated. The least tedious way to (ever so slightly) improve this situation is to simply not include residue number 769.<br>\n",
    "\n",
    "![](images/smc6_cc-mid-2.png)"
   ]
  },
  {
   "cell_type": "markdown",
   "metadata": {
    "cell_style": "center"
   },
   "source": [
    "## Smc6_cc-hinge (Smc6: 436-501, 699-760)\n",
    "No filtering was required."
   ]
  },
  {
   "cell_type": "markdown",
   "metadata": {
    "cell_style": "center"
   },
   "source": [
    "![](images/smc6_cc-hinge.png)\n",
    "<br>\n",
    "\n",
    "XL satisfaction: 14/14, 100%\n",
    "10/10 DSSO, 4/4 CDI"
   ]
  },
  {
   "cell_type": "markdown",
   "metadata": {},
   "source": [
    "# Total XL satisfaction\n",
    "DSSO<br>\n",
    "smc5: 9/9, 2/2, 8/8, 2/2, 16/16<br>\n",
    "smc6: 1/1, 2/2, 18/19, 10/10<br>\n",
    "overall: 68/69, 98.5%\n",
    "<br><br>\n",
    "\n",
    "CDI<br>\n",
    "smc5: 5/5, 3/3, 3/3, 0/0, 4/5<br>\n",
    "smc6: 0/1, 0/0, 6/6, 4/4<br>\n",
    "overall: 25/27, 92.6%\n",
    "<br><br>\n",
    "\n",
    "Total<br>\n",
    "smc5: 14/14, 5/5, 11/11, 2/2, 20/21<br>\n",
    "smc6: 1/1, 2/2, 24/25, 14/14<br>\n",
    "overall: 93/95, 97.89%\n"
   ]
  },
  {
   "cell_type": "code",
   "execution_count": null,
   "metadata": {},
   "outputs": [],
   "source": []
  }
 ],
 "metadata": {
  "hide_input": false,
  "kernelspec": {
   "display_name": "Python 3",
   "language": "python",
   "name": "python3"
  },
  "language_info": {
   "codemirror_mode": {
    "name": "ipython",
    "version": 3
   },
   "file_extension": ".py",
   "mimetype": "text/x-python",
   "name": "python",
   "nbconvert_exporter": "python",
   "pygments_lexer": "ipython3",
   "version": "3.7.6"
  },
  "toc": {
   "base_numbering": 1,
   "nav_menu": {},
   "number_sections": true,
   "sideBar": true,
   "skip_h1_title": true,
   "title_cell": "Table of Contents",
   "title_sidebar": "Contents",
   "toc_cell": false,
   "toc_position": {
    "height": "calc(100% - 180px)",
    "left": "10px",
    "top": "150px",
    "width": "384px"
   },
   "toc_section_display": true,
   "toc_window_display": true
  }
 },
 "nbformat": 4,
 "nbformat_minor": 4
}
