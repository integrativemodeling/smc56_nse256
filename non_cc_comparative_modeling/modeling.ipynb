{
 "cells": [
  {
   "cell_type": "markdown",
   "metadata": {},
   "source": [
    "# Comparative modeling of head and hinge regions of yeast Smc5/6\n",
    "<br>\n",
    "Tanmoy Sanyal<br>\n",
    "Sali lab, UCSF"
   ]
  },
  {
   "cell_type": "markdown",
   "metadata": {},
   "source": [
    "Necessary libraries:"
   ]
  },
  {
   "cell_type": "code",
   "execution_count": 38,
   "metadata": {},
   "outputs": [],
   "source": [
    "import os\n",
    "import numpy as np\n",
    "import copy\n",
    "import json\n",
    "import pandas as pd ; pd.options.display.float_format = \"{:,.2f}\".format\n",
    "\n",
    "from Bio import SeqIO\n",
    "from Bio.PDB import PDBParser, PDBIO, Select, Structure, Model, Chain, Residue"
   ]
  },
  {
   "cell_type": "markdown",
   "metadata": {},
   "source": [
    "File paths containing input data: sequence, crosslinks, comparative models automatically designed using SWISS-MODEL and comparative models designed using MODELLER."
   ]
  },
  {
   "cell_type": "code",
   "execution_count": 55,
   "metadata": {},
   "outputs": [],
   "source": [
    "INPUT_DATADIR = os.path.abspath(\"../data\")\n",
    "FASTA_FN = os.path.join(INPUT_DATADIR, \"holocomplex.fasta.txt\")\n",
    "XL_FN = os.path.join(INPUT_DATADIR, \"xl\", \"xl_all.csv\")\n",
    "\n",
    "SMC5_HINGE_DIR = os.path.join(\"smc5_hinge_SWISSMODEL\")\n",
    "SMC5_HEAD_DIR = os.path.join(\"smc56_head_MODELLER\")\n",
    "\n",
    "SMC6_HINGE_DIR = os.path.join(\"smc6_hinge_SWISSMODEL\")\n",
    "SMC6_HEAD_DIR = os.path.join(\"smc56_head_MODELLER\")"
   ]
  },
  {
   "cell_type": "markdown",
   "metadata": {},
   "source": [
    "Output directory for the best comparative models and directory containing all image files:"
   ]
  },
  {
   "cell_type": "code",
   "execution_count": 15,
   "metadata": {},
   "outputs": [],
   "source": [
    "OUTDIR = \"best_models\"\n",
    "os.makedirs(OUTDIR, exist_ok=True)\n",
    "\n",
    "IMGDIR = \"images\""
   ]
  },
  {
   "cell_type": "markdown",
   "metadata": {},
   "source": [
    "Cutoffs for DSSO and CDI crosslinkers: <br>\n",
    "(Cutoff for CDI crosslinker motivated from [The First Zero‐Length Mass Spectrometry‐Cleavable Cross‐Linker for Protein Structure Analysis, Hage, Iacobucci, Ang. Chem., 2017](https://onlinelibrary.wiley.com/doi/abs/10.1002/anie.201708273)"
   ]
  },
  {
   "cell_type": "code",
   "execution_count": 6,
   "metadata": {},
   "outputs": [],
   "source": [
    "XL_CUTOFFS = {\"DSSO\": 30.0, \"CDI\": 20.0}"
   ]
  },
  {
   "cell_type": "markdown",
   "metadata": {},
   "source": [
    "Helper function to extract specific regions from sequences:"
   ]
  },
  {
   "cell_type": "code",
   "execution_count": 7,
   "metadata": {},
   "outputs": [],
   "source": [
    "def _extract_sequence_region(protein_name, fasta_id=None, start_residue=None, stop_residue=None):\n",
    "    fasta = {r.id: r.seq._data for r in SeqIO.parse(FASTA_FN, format=\"fasta\")}\n",
    "    \n",
    "    if fasta_id is None: fasta_id = protein_name\n",
    "    seq = fasta[fasta_id]\n",
    "    \n",
    "    if start_residue is None: start_residue = 1\n",
    "    if stop_residue is None: stop_residue = len(seq)\n",
    "    print(\"region length = %d AA\" % len(seq))\n",
    "    print(\"pdb offset = %d\" % (start_residue-1))\n",
    "    print(\"sub-sequence: %s\" % seq[(start_residue-1) : stop_residue])"
   ]
  },
  {
   "cell_type": "markdown",
   "metadata": {},
   "source": [
    "Helper function to rank comparative models according to intra-molecular crosslink (XL) satisfaction:<br>\n",
    "Note, in this function and in other functions later ```offset``` is how much you'd need to add to the index of a residue to get the same residue index as in the original fasta sequence for this molecule (smc5 or smc6)."
   ]
  },
  {
   "cell_type": "code",
   "execution_count": 59,
   "metadata": {},
   "outputs": [],
   "source": [
    "def _rank_model_by_XL(pdb_fn, protein_name, offset=0):\n",
    "    # extract intra-molecular XLs for this molecule\n",
    "    df = pd.read_csv(XL_FN)\n",
    "    xls = []\n",
    "    for i in range(len(df)):\n",
    "        p1, r1, p2, r2, linker = tuple(df.iloc[i])\n",
    "        if p1 == p2 == protein_name:\n",
    "            xls.append((p1, r1, p2, r2, linker, XL_CUTOFFS[linker]))\n",
    "    \n",
    "    # extract residue (CA) coordinates\n",
    "    model = PDBParser(QUIET=True).get_structure(\"x\", pdb_fn)[0]\n",
    "    residues = {}\n",
    "    for r in model.get_residues():\n",
    "        key = r.id[1] + offset\n",
    "        val = r[\"CA\"]\n",
    "        residues[key] = val\n",
    "    \n",
    "    # calculate XL satisfaction\n",
    "    n_cov, n_sat, n_tot = 0, 0, len(df)\n",
    "    \n",
    "    for xl in xls:\n",
    "        p1, r1, p2, r2, linker, cutoff = xl\n",
    "        if not (r1 in residues and r2 in residues): continue\n",
    "        n_cov += 1\n",
    "        if residues[r1] - residues[r2] <= cutoff: n_sat += 1\n",
    "    return n_sat, n_cov, n_tot"
   ]
  },
  {
   "cell_type": "markdown",
   "metadata": {},
   "source": [
    "Helper function to get quality of comparative models from SWISSMODEL:"
   ]
  },
  {
   "cell_type": "code",
   "execution_count": 39,
   "metadata": {},
   "outputs": [],
   "source": [
    "def _analyze_SWISSMODEL_quality(SWISSMODEL_output_dir, protein_name, nmodels=10, offset=0):\n",
    "    quality = []\n",
    "    for i in range(nmodels):\n",
    "        model_dir = os.path.join(SWISSMODEL_output_dir, \"model\", \"%02d\" % (i+1))\n",
    "        pdb_fn = os.path.join(model_dir, \"model.pdb\")\n",
    "        \n",
    "        # get XL stats\n",
    "        n_sat, n_cov, n_tot = _rank_model_by_XL(pdb_fn, protein_name, offset)\n",
    "        if n_cov == 0:\n",
    "            frac_cov = 0\n",
    "            frac_sat = 0\n",
    "        else:\n",
    "            frac_cov = float(n_cov) / n_tot\n",
    "            frac_sat = float(n_sat) / n_cov\n",
    "        \n",
    "        # get resolution\n",
    "        with open(os.path.join(model_dir, \"report.json\"), \"r\") as of:\n",
    "            report = json.load(of)\n",
    "        report = report[\"modelling\"]\n",
    "        template = report[\"pdb_id\"] + \".\" + report[\"chain\"]\n",
    "        resolution = report[\"resolution\"]\n",
    "        seq_id = report[\"seq_id\"]\n",
    "        model_num = i+1\n",
    "        \n",
    "        this_quality = (model_num, template, resolution, seq_id, frac_cov*100, frac_sat*100, n_sat, n_cov)\n",
    "        quality.append(this_quality)\n",
    "    \n",
    "    # organize into a pandas dataframe\n",
    "    columns = [\"model\", \"template\", \"resolution\", \"sequence_identity(%)\", \"XL_coverage(%)\", \"XL_satisfaction(%)\", \"num_XL_covered\", \"num_XL_satisfied\"]\n",
    "    df_quality = pd.DataFrame(quality, columns=columns)\n",
    "    display(df_quality)"
   ]
  },
  {
   "cell_type": "markdown",
   "metadata": {},
   "source": [
    "Helper function to extract the best model from a list of models returned from the SWISSMODEL webserver"
   ]
  },
  {
   "cell_type": "code",
   "execution_count": 44,
   "metadata": {},
   "outputs": [],
   "source": [
    "def _get_SWISSMODEL_best(SWISSMODEL_output_dir, model_num, out_pdb_fn, chain_id=\"A\", offset=0):\n",
    "    in_pdb_fn = os.path.join(SWISSMODEL_output_dir, \"model\", \"%02d\" % model_num, \"model.pdb\")\n",
    "    in_model = PDBParser().get_structure(\"x\", in_pdb_fn)[0]\n",
    "    \n",
    "    model = Model.Model(0)\n",
    "    chain = Chain.Chain(chain_id)\n",
    "    for r in in_model.get_residues():\n",
    "        if r.id[0] != \" \": continue   # ignore HETATMS\n",
    "        new_id = (r.id[0], r.id[1]+offset, r.id[2])\n",
    "        new_r = Residue.Residue(id=new_id, resname=r.resname, segid=r.segid)\n",
    "        [new_r.add(a) for a in r.get_atoms()]\n",
    "        chain.add(new_r)\n",
    "    model.add(chain)\n",
    "    \n",
    "    io = PDBIO()\n",
    "    io.set_structure(model)\n",
    "    io.save(os.path.join(OUTDIR, out_pdb_fn),\n",
    "            preserve_atom_numbering=True)"
   ]
  },
  {
   "cell_type": "markdown",
   "metadata": {},
   "source": [
    "## Smc5 Hinge (462, 639)"
   ]
  },
  {
   "cell_type": "markdown",
   "metadata": {},
   "source": [
    "We extract the subsequence for the Smc5 hinge region and put it into [SWISSMODEL](https://swissmodel.expasy.org/) which automatically searches templates for us. Then we build models for templates that are crystal structures, have moderate to high resolution and sequence identity with the target subsequence. "
   ]
  },
  {
   "cell_type": "code",
   "execution_count": 26,
   "metadata": {},
   "outputs": [
    {
     "name": "stdout",
     "output_type": "stream",
     "text": [
      "region length = 1093 AA\n",
      "pdb offset = 461\n",
      "sub-sequence: LKEVRDAVLMVREHPEMKDKILEPPIMTVSAINAQFAAYLAQCVDYNTSKALTVVDSDSYKLFANPILDKFKVNLRELSSADTTPPVPAETVRDLGFEGYLSDFITGDKRVMKMLCQTSKIHTIPVSRRELTPAQIKKLITPRPNGKILFKRIIHGNRLVDIKQSAYGSKQVFPTDVS\n"
     ]
    }
   ],
   "source": [
    "_extract_sequence_region(protein_name=\"smc5\", fasta_id=\"smc5\", start_residue=462, stop_residue=639)"
   ]
  },
  {
   "cell_type": "markdown",
   "metadata": {},
   "source": [
    "Here are XL coverage and satisfaction statistics for the top 10 models returned from SWISSMODEL:"
   ]
  },
  {
   "cell_type": "code",
   "execution_count": 40,
   "metadata": {
    "cell_style": "center"
   },
   "outputs": [
    {
     "data": {
      "text/html": [
       "<div>\n",
       "<style scoped>\n",
       "    .dataframe tbody tr th:only-of-type {\n",
       "        vertical-align: middle;\n",
       "    }\n",
       "\n",
       "    .dataframe tbody tr th {\n",
       "        vertical-align: top;\n",
       "    }\n",
       "\n",
       "    .dataframe thead th {\n",
       "        text-align: right;\n",
       "    }\n",
       "</style>\n",
       "<table border=\"1\" class=\"dataframe\">\n",
       "  <thead>\n",
       "    <tr style=\"text-align: right;\">\n",
       "      <th></th>\n",
       "      <th>model</th>\n",
       "      <th>template</th>\n",
       "      <th>resolution</th>\n",
       "      <th>sequence_identity(%)</th>\n",
       "      <th>XL_coverage(%)</th>\n",
       "      <th>XL_satisfaction(%)</th>\n",
       "      <th>num_XL_covered</th>\n",
       "      <th>num_XL_satisfied</th>\n",
       "    </tr>\n",
       "  </thead>\n",
       "  <tbody>\n",
       "    <tr>\n",
       "      <th>0</th>\n",
       "      <td>1</td>\n",
       "      <td>5mg8.A</td>\n",
       "      <td>2.75</td>\n",
       "      <td>32.21</td>\n",
       "      <td>3.18</td>\n",
       "      <td>100.00</td>\n",
       "      <td>11</td>\n",
       "      <td>11</td>\n",
       "    </tr>\n",
       "    <tr>\n",
       "      <th>1</th>\n",
       "      <td>2</td>\n",
       "      <td>5mg8.A</td>\n",
       "      <td>2.75</td>\n",
       "      <td>32.21</td>\n",
       "      <td>3.18</td>\n",
       "      <td>100.00</td>\n",
       "      <td>11</td>\n",
       "      <td>11</td>\n",
       "    </tr>\n",
       "    <tr>\n",
       "      <th>2</th>\n",
       "      <td>3</td>\n",
       "      <td>3r64.A</td>\n",
       "      <td>2.57</td>\n",
       "      <td>28.85</td>\n",
       "      <td>0.00</td>\n",
       "      <td>0.00</td>\n",
       "      <td>0</td>\n",
       "      <td>0</td>\n",
       "    </tr>\n",
       "    <tr>\n",
       "      <th>3</th>\n",
       "      <td>4</td>\n",
       "      <td>4e4g.A</td>\n",
       "      <td>2.90</td>\n",
       "      <td>28.30</td>\n",
       "      <td>0.00</td>\n",
       "      <td>0.00</td>\n",
       "      <td>0</td>\n",
       "      <td>0</td>\n",
       "    </tr>\n",
       "    <tr>\n",
       "      <th>4</th>\n",
       "      <td>5</td>\n",
       "      <td>4e4g.B</td>\n",
       "      <td>2.90</td>\n",
       "      <td>28.30</td>\n",
       "      <td>0.00</td>\n",
       "      <td>0.00</td>\n",
       "      <td>0</td>\n",
       "      <td>0</td>\n",
       "    </tr>\n",
       "    <tr>\n",
       "      <th>5</th>\n",
       "      <td>6</td>\n",
       "      <td>4e4g.A</td>\n",
       "      <td>2.90</td>\n",
       "      <td>28.30</td>\n",
       "      <td>0.00</td>\n",
       "      <td>0.00</td>\n",
       "      <td>0</td>\n",
       "      <td>0</td>\n",
       "    </tr>\n",
       "    <tr>\n",
       "      <th>6</th>\n",
       "      <td>7</td>\n",
       "      <td>5mg8.A</td>\n",
       "      <td>2.75</td>\n",
       "      <td>27.54</td>\n",
       "      <td>3.76</td>\n",
       "      <td>92.31</td>\n",
       "      <td>12</td>\n",
       "      <td>13</td>\n",
       "    </tr>\n",
       "    <tr>\n",
       "      <th>7</th>\n",
       "      <td>8</td>\n",
       "      <td>5mg8.A</td>\n",
       "      <td>2.75</td>\n",
       "      <td>27.54</td>\n",
       "      <td>3.76</td>\n",
       "      <td>92.31</td>\n",
       "      <td>12</td>\n",
       "      <td>13</td>\n",
       "    </tr>\n",
       "    <tr>\n",
       "      <th>8</th>\n",
       "      <td>9</td>\n",
       "      <td>4dng.B</td>\n",
       "      <td>2.50</td>\n",
       "      <td>22.64</td>\n",
       "      <td>0.00</td>\n",
       "      <td>0.00</td>\n",
       "      <td>0</td>\n",
       "      <td>0</td>\n",
       "    </tr>\n",
       "    <tr>\n",
       "      <th>9</th>\n",
       "      <td>10</td>\n",
       "      <td>4dng.A</td>\n",
       "      <td>2.50</td>\n",
       "      <td>22.64</td>\n",
       "      <td>0.00</td>\n",
       "      <td>0.00</td>\n",
       "      <td>0</td>\n",
       "      <td>0</td>\n",
       "    </tr>\n",
       "  </tbody>\n",
       "</table>\n",
       "</div>"
      ],
      "text/plain": [
       "   model template  resolution  sequence_identity(%)  XL_coverage(%)  \\\n",
       "0      1   5mg8.A        2.75                 32.21            3.18   \n",
       "1      2   5mg8.A        2.75                 32.21            3.18   \n",
       "2      3   3r64.A        2.57                 28.85            0.00   \n",
       "3      4   4e4g.A        2.90                 28.30            0.00   \n",
       "4      5   4e4g.B        2.90                 28.30            0.00   \n",
       "5      6   4e4g.A        2.90                 28.30            0.00   \n",
       "6      7   5mg8.A        2.75                 27.54            3.76   \n",
       "7      8   5mg8.A        2.75                 27.54            3.76   \n",
       "8      9   4dng.B        2.50                 22.64            0.00   \n",
       "9     10   4dng.A        2.50                 22.64            0.00   \n",
       "\n",
       "   XL_satisfaction(%)  num_XL_covered  num_XL_satisfied  \n",
       "0              100.00              11                11  \n",
       "1              100.00              11                11  \n",
       "2                0.00               0                 0  \n",
       "3                0.00               0                 0  \n",
       "4                0.00               0                 0  \n",
       "5                0.00               0                 0  \n",
       "6               92.31              12                13  \n",
       "7               92.31              12                13  \n",
       "8                0.00               0                 0  \n",
       "9                0.00               0                 0  "
      ]
     },
     "metadata": {},
     "output_type": "display_data"
    }
   ],
   "source": [
    "_analyze_SWISSMODEL_quality(SWISSMODEL_output_dir=SMC5_HINGE_DIR, protein_name=\"smc5\", nmodels=10, offset=461)"
   ]
  },
  {
   "cell_type": "markdown",
   "metadata": {
    "cell_style": "center"
   },
   "source": [
    "We prefer higher sequence identity (more reliable) over a larger number of satisfied XLs. This makes the model # 1 the best model over model numbers 6 or 7."
   ]
  },
  {
   "cell_type": "code",
   "execution_count": 51,
   "metadata": {
    "cell_style": "center"
   },
   "outputs": [],
   "source": [
    "_get_SWISSMODEL_best(SWISSMODEL_output_dir=SMC5_HINGE_DIR, model_num=1, out_pdb_fn=\"smc5_hinge.pdb\", chain_id=\"A\", offset=461)"
   ]
  },
  {
   "cell_type": "markdown",
   "metadata": {
    "cell_style": "center"
   },
   "source": [
    "Comparative model of Smc5 hinge region: 462-639 @ 2.75 Å resolution from hinge domain of [Smc5 of fission yeast (*S.pombe*)](https://www.rcsb.org/structure/5mg8)<br>\n",
    "![](images/smc5_hinge.png)"
   ]
  },
  {
   "cell_type": "markdown",
   "metadata": {},
   "source": [
    "## Smc6 Hinge (504, 693)"
   ]
  },
  {
   "cell_type": "markdown",
   "metadata": {},
   "source": [
    "Same as with the Smc5 hinge region, we extract the corresponding subsequence and use SWISSMODEL to derive a number of comparative models, which are then ranked according to XL satisfaction."
   ]
  },
  {
   "cell_type": "code",
   "execution_count": 47,
   "metadata": {},
   "outputs": [
    {
     "name": "stdout",
     "output_type": "stream",
     "text": [
      "region length = 1114 AA\n",
      "pdb offset = 503\n",
      "sub-sequence: DTFLMNFDRNMDRLLRTIEQRKNEFETPAIGPLGSLVTIRKGFEKWTRSIQRAISSSLNAFVVSNPKDNRLFRDIMRSCGIRSNIPIVTYCLSQFDYSKGRAHGNYPTIVDALEFSKPEIECLFVDLSRIERIVLIEDKNEARNFLQRNPVNVNMALSLRDRRSGFQLSGGYRLDTVTYQDKIRLKVNSS\n"
     ]
    }
   ],
   "source": [
    "_extract_sequence_region(protein_name=\"smc6\", fasta_id=\"smc6\", start_residue=504, stop_residue=693)"
   ]
  },
  {
   "cell_type": "code",
   "execution_count": 49,
   "metadata": {
    "cell_style": "center"
   },
   "outputs": [
    {
     "data": {
      "text/html": [
       "<div>\n",
       "<style scoped>\n",
       "    .dataframe tbody tr th:only-of-type {\n",
       "        vertical-align: middle;\n",
       "    }\n",
       "\n",
       "    .dataframe tbody tr th {\n",
       "        vertical-align: top;\n",
       "    }\n",
       "\n",
       "    .dataframe thead th {\n",
       "        text-align: right;\n",
       "    }\n",
       "</style>\n",
       "<table border=\"1\" class=\"dataframe\">\n",
       "  <thead>\n",
       "    <tr style=\"text-align: right;\">\n",
       "      <th></th>\n",
       "      <th>model</th>\n",
       "      <th>template</th>\n",
       "      <th>resolution</th>\n",
       "      <th>sequence_identity(%)</th>\n",
       "      <th>XL_coverage(%)</th>\n",
       "      <th>XL_satisfaction(%)</th>\n",
       "      <th>num_XL_covered</th>\n",
       "      <th>num_XL_satisfied</th>\n",
       "    </tr>\n",
       "  </thead>\n",
       "  <tbody>\n",
       "    <tr>\n",
       "      <th>0</th>\n",
       "      <td>1</td>\n",
       "      <td>5mg8.B</td>\n",
       "      <td>2.75</td>\n",
       "      <td>31.45</td>\n",
       "      <td>0.87</td>\n",
       "      <td>100.00</td>\n",
       "      <td>3</td>\n",
       "      <td>3</td>\n",
       "    </tr>\n",
       "    <tr>\n",
       "      <th>1</th>\n",
       "      <td>2</td>\n",
       "      <td>5mg8.B</td>\n",
       "      <td>2.75</td>\n",
       "      <td>31.45</td>\n",
       "      <td>0.87</td>\n",
       "      <td>100.00</td>\n",
       "      <td>3</td>\n",
       "      <td>3</td>\n",
       "    </tr>\n",
       "    <tr>\n",
       "      <th>2</th>\n",
       "      <td>3</td>\n",
       "      <td>5mg8.B</td>\n",
       "      <td>2.75</td>\n",
       "      <td>28.02</td>\n",
       "      <td>2.60</td>\n",
       "      <td>88.89</td>\n",
       "      <td>8</td>\n",
       "      <td>9</td>\n",
       "    </tr>\n",
       "    <tr>\n",
       "      <th>3</th>\n",
       "      <td>4</td>\n",
       "      <td>2uvp.B</td>\n",
       "      <td>1.70</td>\n",
       "      <td>24.32</td>\n",
       "      <td>0.00</td>\n",
       "      <td>0.00</td>\n",
       "      <td>0</td>\n",
       "      <td>0</td>\n",
       "    </tr>\n",
       "    <tr>\n",
       "      <th>4</th>\n",
       "      <td>5</td>\n",
       "      <td>1gxl.A</td>\n",
       "      <td>3.00</td>\n",
       "      <td>16.44</td>\n",
       "      <td>0.87</td>\n",
       "      <td>100.00</td>\n",
       "      <td>3</td>\n",
       "      <td>3</td>\n",
       "    </tr>\n",
       "    <tr>\n",
       "      <th>5</th>\n",
       "      <td>6</td>\n",
       "      <td>1gxl.A</td>\n",
       "      <td>3.00</td>\n",
       "      <td>16.44</td>\n",
       "      <td>0.87</td>\n",
       "      <td>100.00</td>\n",
       "      <td>3</td>\n",
       "      <td>3</td>\n",
       "    </tr>\n",
       "    <tr>\n",
       "      <th>6</th>\n",
       "      <td>7</td>\n",
       "      <td>4rsj.A</td>\n",
       "      <td>3.50</td>\n",
       "      <td>14.52</td>\n",
       "      <td>0.29</td>\n",
       "      <td>100.00</td>\n",
       "      <td>1</td>\n",
       "      <td>1</td>\n",
       "    </tr>\n",
       "    <tr>\n",
       "      <th>7</th>\n",
       "      <td>8</td>\n",
       "      <td>1gxk.A</td>\n",
       "      <td>3.00</td>\n",
       "      <td>14.29</td>\n",
       "      <td>0.00</td>\n",
       "      <td>0.00</td>\n",
       "      <td>0</td>\n",
       "      <td>0</td>\n",
       "    </tr>\n",
       "    <tr>\n",
       "      <th>8</th>\n",
       "      <td>9</td>\n",
       "      <td>5mg8.A</td>\n",
       "      <td>2.75</td>\n",
       "      <td>12.99</td>\n",
       "      <td>2.31</td>\n",
       "      <td>100.00</td>\n",
       "      <td>8</td>\n",
       "      <td>8</td>\n",
       "    </tr>\n",
       "    <tr>\n",
       "      <th>9</th>\n",
       "      <td>10</td>\n",
       "      <td>6wg4.A</td>\n",
       "      <td>2.31</td>\n",
       "      <td>12.33</td>\n",
       "      <td>0.87</td>\n",
       "      <td>100.00</td>\n",
       "      <td>3</td>\n",
       "      <td>3</td>\n",
       "    </tr>\n",
       "  </tbody>\n",
       "</table>\n",
       "</div>"
      ],
      "text/plain": [
       "   model template  resolution  sequence_identity(%)  XL_coverage(%)  \\\n",
       "0      1   5mg8.B        2.75                 31.45            0.87   \n",
       "1      2   5mg8.B        2.75                 31.45            0.87   \n",
       "2      3   5mg8.B        2.75                 28.02            2.60   \n",
       "3      4   2uvp.B        1.70                 24.32            0.00   \n",
       "4      5   1gxl.A        3.00                 16.44            0.87   \n",
       "5      6   1gxl.A        3.00                 16.44            0.87   \n",
       "6      7   4rsj.A        3.50                 14.52            0.29   \n",
       "7      8   1gxk.A        3.00                 14.29            0.00   \n",
       "8      9   5mg8.A        2.75                 12.99            2.31   \n",
       "9     10   6wg4.A        2.31                 12.33            0.87   \n",
       "\n",
       "   XL_satisfaction(%)  num_XL_covered  num_XL_satisfied  \n",
       "0              100.00               3                 3  \n",
       "1              100.00               3                 3  \n",
       "2               88.89               8                 9  \n",
       "3                0.00               0                 0  \n",
       "4              100.00               3                 3  \n",
       "5              100.00               3                 3  \n",
       "6              100.00               1                 1  \n",
       "7                0.00               0                 0  \n",
       "8              100.00               8                 8  \n",
       "9              100.00               3                 3  "
      ]
     },
     "metadata": {},
     "output_type": "display_data"
    }
   ],
   "source": [
    "_analyze_SWISSMODEL_quality(SWISSMODEL_output_dir=SMC6_HINGE_DIR, protein_name=\"smc6\", nmodels=10, offset=503)"
   ]
  },
  {
   "cell_type": "markdown",
   "metadata": {
    "cell_style": "center"
   },
   "source": [
    "The choice here is clear. Model # 3 preserves a high sequence identity while also producing high XL satisfaction and coverage."
   ]
  },
  {
   "cell_type": "code",
   "execution_count": 50,
   "metadata": {
    "cell_style": "center"
   },
   "outputs": [],
   "source": [
    "_get_SWISSMODEL_best(SWISSMODEL_output_dir=SMC6_HINGE_DIR, model_num=3, out_pdb_fn=\"smc6_hinge.pdb\", chain_id=\"B\", offset=503)"
   ]
  },
  {
   "cell_type": "markdown",
   "metadata": {},
   "source": [
    "Comparative model of Smc6 hinge region: 504-693 @ 2.75 Å resolution from hinge domain of [Smc5 of fission yeast (*S.pombe*)](https://www.rcsb.org/structure/5mg8)<br>\n",
    "![](images/smc6_hinge.png)"
   ]
  },
  {
   "cell_type": "markdown",
   "metadata": {},
   "source": [
    "## Smc5/6 head region\n",
    "Smc5  :  42-204 (head NTD), 949-1093 (head CTD)<br>\n",
    "Smc6  :  80-232 (head NTD), 988-1114 (head CTD)<br>"
   ]
  },
  {
   "cell_type": "markdown",
   "metadata": {},
   "source": [
    "Based on preliminary integrative models of Smc5 and Smc6, it was found that modeling the N- and C-terminal regions of the heads separately lead to the the heads being farther apart than usually found in Smc complexes. This resulted primarily from the lack of XL information in the head region. To enforce the heads to be closer, we'll develop a comparative model of the combined head region of Smc5/6, using a template that has Smc5 head region dimer/(s) in them. A good first choice is [6pqw](https://www.rcsb.org/structure/6QPW), which is a heterotrimeric complex of yeast cohesin (Smc1/3) and bacterial Scc1. Chain A of this complex (PDB ID: 6qpw) is Smc1 and chain C is Smc3.<br>\n",
    "\n",
    "However, from a SWISSMODEL template search, it was found that there can be other contenders for template selection. E.g. 6qpw and [1xew](https://www.rcsb.org/structure/1XEW) (Smc complex from *P.furiosus*) both have high sequence identity with Smc5/6 head region. However 1xew has C terminal region of chain X and N terminal region of chain Y missing, while 6qpw has C terminal region of Smc1 missing. These gaps can in principle be fulfilled by a very recently deposited structure of human condensin [6zz6](https://www.rcsb.org/structure/6ZZ6) which has average 21-24% sequence identity with Smc5/6 head region. So the ideal scenario would be to build a comparative model from all three of these templates, taking the missing regions as much as posible from the more similar 6qpw and the remaining regions from 6zz6.<br>\n",
    "\n",
    "But first, we will perform several combinations of alignments to figure out which chain in each template corresponds more to Smc5 and which chain more to Smc6. Pairwise alignments and MSAs were generated using the [Clustal Omega webserver](https://toolkit.tuebingen.mpg.de/tools/clustalo). The seqeunce identities for various combinations are as:<br><br>\n",
    "\n",
    "6ZZ6<br>\n",
    "Smc5 head and 6zz6.A have 66 equivalences, and are 21.43% identical<br>\n",
    "Smc6 head and 6zz6.B have 63 equivalences, and are 22.50% identical<br>\n",
    "Smc5 head and 6zz6.B have 65 equivalences, and are 21.10% identical<br>\n",
    "Smc6 head and 6zz6.A have 69 equivalences, and are 24.64% identical<br>\n",
    "<br>\n",
    "\n",
    "6QPW<br>\n",
    "Smc5 head and 6qpw.A have 42 equivalences, and are 25.77% identical<br>\n",
    "Smc6 head and 6qpw.C have 66 equivalences, and are 23.57% identical<br>\n",
    "Smc5 head and 6qpw.C have 68 equivalences, and are 22.08% identical<br>\n",
    "Smc6 head NTD and 6qpw.A have 36 equivalences, and are 23.53% identical<br>\n",
    "<br>\n",
    "\n",
    "1XEW<br>\n",
    "Smc5 head NTD and 1xew.X have 35 equivalences, and are 23.81% identical<br>\n",
    "Smc6 head CTD and 1xew.Y have 31 equivalences, and are 24.41% identical<br>\n",
    "Smc5 head CTD and 1xew.Y have 33 equivalences, and are 22.76% identical<br>\n",
    "Smc6 head NTD and 1xew.X have 32 equivalences, and are 21.77% identical<br>\n",
    "<br>\n",
    "\n",
    "Based on these, the optimal template combination that assures higher sequence identitites, seems to be: 6qpw.A for Smc5 head NTD, 6zz6.A for Smc5 head CTD_termina, and 6qpwC for both NTD and CTD of Smc6 head. But, to keep things simpler, we will use just 6qpw and 6zz6. Clustal Omega is again used to build a MSA from Smc5/6 head region, 6qpw (chains A & C) and 6zz6 (chains A & B) which is then served as an input to [MODELLER.](https://salilab.org/modeller/)<br>\n",
    "\n",
    "The MODELLER python script, template pdb files and alignment file containing the MSA are kept in the directory ```smc56_head_MODELLER```. The entire MODELLER output is kept in ```smc56_head_MODELLER/output``` and includes 20 alternate models (pdb files) generated by MODELLER. We will rank these models by XL satisfaction. "
   ]
  },
  {
   "cell_type": "code",
   "execution_count": 61,
   "metadata": {},
   "outputs": [
    {
     "data": {
      "text/html": [
       "<div>\n",
       "<style scoped>\n",
       "    .dataframe tbody tr th:only-of-type {\n",
       "        vertical-align: middle;\n",
       "    }\n",
       "\n",
       "    .dataframe tbody tr th {\n",
       "        vertical-align: top;\n",
       "    }\n",
       "\n",
       "    .dataframe thead th {\n",
       "        text-align: right;\n",
       "    }\n",
       "</style>\n",
       "<table border=\"1\" class=\"dataframe\">\n",
       "  <thead>\n",
       "    <tr style=\"text-align: right;\">\n",
       "      <th></th>\n",
       "      <th>model_num</th>\n",
       "      <th>num_XL_satisfied</th>\n",
       "      <th>num_XL_covered</th>\n",
       "      <th>XL_satisfaction(%)</th>\n",
       "    </tr>\n",
       "  </thead>\n",
       "  <tbody>\n",
       "    <tr>\n",
       "      <th>0</th>\n",
       "      <td>1</td>\n",
       "      <td>14.00</td>\n",
       "      <td>14.00</td>\n",
       "      <td>1.00</td>\n",
       "    </tr>\n",
       "    <tr>\n",
       "      <th>1</th>\n",
       "      <td>2</td>\n",
       "      <td>13.00</td>\n",
       "      <td>14.00</td>\n",
       "      <td>0.93</td>\n",
       "    </tr>\n",
       "    <tr>\n",
       "      <th>2</th>\n",
       "      <td>3</td>\n",
       "      <td>14.00</td>\n",
       "      <td>14.00</td>\n",
       "      <td>1.00</td>\n",
       "    </tr>\n",
       "    <tr>\n",
       "      <th>3</th>\n",
       "      <td>4</td>\n",
       "      <td>14.00</td>\n",
       "      <td>14.00</td>\n",
       "      <td>1.00</td>\n",
       "    </tr>\n",
       "    <tr>\n",
       "      <th>4</th>\n",
       "      <td>5</td>\n",
       "      <td>14.00</td>\n",
       "      <td>14.00</td>\n",
       "      <td>1.00</td>\n",
       "    </tr>\n",
       "    <tr>\n",
       "      <th>5</th>\n",
       "      <td>6</td>\n",
       "      <td>13.00</td>\n",
       "      <td>14.00</td>\n",
       "      <td>0.93</td>\n",
       "    </tr>\n",
       "    <tr>\n",
       "      <th>6</th>\n",
       "      <td>7</td>\n",
       "      <td>14.00</td>\n",
       "      <td>14.00</td>\n",
       "      <td>1.00</td>\n",
       "    </tr>\n",
       "    <tr>\n",
       "      <th>7</th>\n",
       "      <td>8</td>\n",
       "      <td>13.00</td>\n",
       "      <td>14.00</td>\n",
       "      <td>0.93</td>\n",
       "    </tr>\n",
       "    <tr>\n",
       "      <th>8</th>\n",
       "      <td>9</td>\n",
       "      <td>13.00</td>\n",
       "      <td>14.00</td>\n",
       "      <td>0.93</td>\n",
       "    </tr>\n",
       "    <tr>\n",
       "      <th>9</th>\n",
       "      <td>10</td>\n",
       "      <td>14.00</td>\n",
       "      <td>14.00</td>\n",
       "      <td>1.00</td>\n",
       "    </tr>\n",
       "    <tr>\n",
       "      <th>10</th>\n",
       "      <td>11</td>\n",
       "      <td>14.00</td>\n",
       "      <td>14.00</td>\n",
       "      <td>1.00</td>\n",
       "    </tr>\n",
       "    <tr>\n",
       "      <th>11</th>\n",
       "      <td>12</td>\n",
       "      <td>13.00</td>\n",
       "      <td>14.00</td>\n",
       "      <td>0.93</td>\n",
       "    </tr>\n",
       "    <tr>\n",
       "      <th>12</th>\n",
       "      <td>13</td>\n",
       "      <td>13.00</td>\n",
       "      <td>14.00</td>\n",
       "      <td>0.93</td>\n",
       "    </tr>\n",
       "    <tr>\n",
       "      <th>13</th>\n",
       "      <td>14</td>\n",
       "      <td>14.00</td>\n",
       "      <td>14.00</td>\n",
       "      <td>1.00</td>\n",
       "    </tr>\n",
       "    <tr>\n",
       "      <th>14</th>\n",
       "      <td>15</td>\n",
       "      <td>13.00</td>\n",
       "      <td>14.00</td>\n",
       "      <td>0.93</td>\n",
       "    </tr>\n",
       "    <tr>\n",
       "      <th>15</th>\n",
       "      <td>16</td>\n",
       "      <td>13.00</td>\n",
       "      <td>14.00</td>\n",
       "      <td>0.93</td>\n",
       "    </tr>\n",
       "    <tr>\n",
       "      <th>16</th>\n",
       "      <td>17</td>\n",
       "      <td>14.00</td>\n",
       "      <td>14.00</td>\n",
       "      <td>1.00</td>\n",
       "    </tr>\n",
       "    <tr>\n",
       "      <th>17</th>\n",
       "      <td>18</td>\n",
       "      <td>13.00</td>\n",
       "      <td>14.00</td>\n",
       "      <td>0.93</td>\n",
       "    </tr>\n",
       "    <tr>\n",
       "      <th>18</th>\n",
       "      <td>19</td>\n",
       "      <td>14.00</td>\n",
       "      <td>14.00</td>\n",
       "      <td>1.00</td>\n",
       "    </tr>\n",
       "    <tr>\n",
       "      <th>19</th>\n",
       "      <td>20</td>\n",
       "      <td>14.00</td>\n",
       "      <td>14.00</td>\n",
       "      <td>1.00</td>\n",
       "    </tr>\n",
       "  </tbody>\n",
       "</table>\n",
       "</div>"
      ],
      "text/plain": [
       "    model_num  num_XL_satisfied  num_XL_covered  XL_satisfaction(%)\n",
       "0           1             14.00           14.00                1.00\n",
       "1           2             13.00           14.00                0.93\n",
       "2           3             14.00           14.00                1.00\n",
       "3           4             14.00           14.00                1.00\n",
       "4           5             14.00           14.00                1.00\n",
       "5           6             13.00           14.00                0.93\n",
       "6           7             14.00           14.00                1.00\n",
       "7           8             13.00           14.00                0.93\n",
       "8           9             13.00           14.00                0.93\n",
       "9          10             14.00           14.00                1.00\n",
       "10         11             14.00           14.00                1.00\n",
       "11         12             13.00           14.00                0.93\n",
       "12         13             13.00           14.00                0.93\n",
       "13         14             14.00           14.00                1.00\n",
       "14         15             13.00           14.00                0.93\n",
       "15         16             13.00           14.00                0.93\n",
       "16         17             14.00           14.00                1.00\n",
       "17         18             13.00           14.00                0.93\n",
       "18         19             14.00           14.00                1.00\n",
       "19         20             14.00           14.00                1.00"
      ]
     },
     "metadata": {},
     "output_type": "display_data"
    }
   ],
   "source": [
    "head_quality = []\n",
    "\n",
    "# parse the XL file\n",
    "df = pd.read_csv(XL_FN)\n",
    "xls = []\n",
    "for i in range(len(df)):\n",
    "    p1, r1, p2, r2, linker = tuple(df.iloc[i])\n",
    "    xls.append((p1, r1, p2, r2, linker, XL_CUTOFFS[linker]))\n",
    "\n",
    "# check XL satisfaction for all comparative models built by MODELLER\n",
    "for i in range(20):\n",
    "    # read the pdb file\n",
    "    pdb_fn = os.path.join(SMC5_HEAD_DIR, \"output\", \"smc56_head.B9999%04d.pdb\" % (i+1))\n",
    "    model = PDBParser(QUIET=True).get_structure(\"x\", pdb_fn)[0]\n",
    "    \n",
    "    # store CA coordinates of all residues of Smc5 and Smc6 head regions\n",
    "    smc5_res, smc6_res = {}, {}\n",
    "    for r in list(model[\"A\"].get_residues()) + list(model[\"B\"].get_residues()):\n",
    "        smc5_res[r.id[1]] = r[\"CA\"]\n",
    "    for r in list(model[\"C\"].get_residues()) + list(model[\"D\"].get_residues()):\n",
    "        smc6_res[r.id[1]] = r[\"CA\"]\n",
    "        \n",
    "    nsat, ncov, frac_sat = 0.0, 0.0, 0.0\n",
    "    for xl in xls:\n",
    "        p1, r1, p2, r2, linker, cutoff = xl\n",
    "        a1, a2 = None, None\n",
    "        \n",
    "        if (p1==\"smc5\" and r1 in smc5_res):\n",
    "            a1 = smc5_res[r1]\n",
    "        elif (p1==\"smc6\" and r1 in smc6_res):\n",
    "            a1 = smc6_res[r1]\n",
    "        \n",
    "        if (p2==\"smc5\" and r2 in smc5_res):\n",
    "            a2 = smc5_res[r2]\n",
    "        elif (p2==\"smc6\" and r2 in smc6_res):\n",
    "            a2 = smc6_res[r2]\n",
    "        \n",
    "        if (a1 is None) or (a2 is None): continue\n",
    "        ncov += 1\n",
    "        if a1-a2 <= cutoff: nsat += 1\n",
    "    \n",
    "    if nsat > 0: frac_sat = nsat / ncov\n",
    "    head_quality.append((i+1, nsat, ncov, frac_sat))\n",
    "\n",
    "columns = [\"model_num\", \"num_XL_satisfied\", \"num_XL_covered\", \"XL_satisfaction(%)\"]\n",
    "df_quality = pd.DataFrame(head_quality, columns=columns)\n",
    "display(df_quality)"
   ]
  },
  {
   "cell_type": "markdown",
   "metadata": {
    "cell_style": "center"
   },
   "source": [
    "Since all the XL satisfactions are very close, we'll select the model with the lowest DOPE score. The DOPE scores can be found at the end of the file ```smc56_head_MODELLER/output/log.txt```. Model # 18 has the lowest DOPE score. We'll select this as the comparative model of the Smc5/6 head region. Chains A+B represent the Smc5 head and chains C+D represent the Smc6 head. The two Smc heads will be treated as two distinct rigid bodies during integrative modeling. This model is copied to ```best_models``` directory and stored as ```smc56_head-dimer.pdb```."
   ]
  },
  {
   "cell_type": "markdown",
   "metadata": {},
   "source": [
    "Comparative model of Smc5/6 combined head region: Smc5:42-204, 949-1093 and Smc6:80-232, 988-1114 from a combination of templates [6qpw](https://www.rcsb.org/structure/6QPW) (chains A & C) @ 3.30 Å and [6zz6](https://www.rcsb.org/structure/6ZZ6) (chains A & B) @ 3.40 Å.<br>\n",
    "Smc5 is in red and Smc6 is in blue. <br>\n",
    "![](images/smc56_head.png)"
   ]
  },
  {
   "cell_type": "code",
   "execution_count": null,
   "metadata": {},
   "outputs": [],
   "source": []
  }
 ],
 "metadata": {
  "hide_input": false,
  "kernelspec": {
   "display_name": "Python 3",
   "language": "python",
   "name": "python3"
  },
  "language_info": {
   "codemirror_mode": {
    "name": "ipython",
    "version": 3
   },
   "file_extension": ".py",
   "mimetype": "text/x-python",
   "name": "python",
   "nbconvert_exporter": "python",
   "pygments_lexer": "ipython3",
   "version": "3.7.6"
  },
  "toc": {
   "base_numbering": 1,
   "nav_menu": {},
   "number_sections": true,
   "sideBar": true,
   "skip_h1_title": true,
   "title_cell": "Table of Contents",
   "title_sidebar": "Contents",
   "toc_cell": false,
   "toc_position": {
    "height": "calc(100% - 180px)",
    "left": "10px",
    "top": "150px",
    "width": "233px"
   },
   "toc_section_display": true,
   "toc_window_display": true
  }
 },
 "nbformat": 4,
 "nbformat_minor": 4
}
